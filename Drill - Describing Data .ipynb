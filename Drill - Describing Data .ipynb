{
 "cells": [
  {
   "cell_type": "code",
   "execution_count": 49,
   "metadata": {
    "collapsed": false,
    "scrolled": true
   },
   "outputs": [
    {
     "name": "stdout",
     "output_type": "stream",
     "text": [
      "            name  age\n",
      "0           Greg   14\n",
      "1         Marcia   12\n",
      "2          Peter   11\n",
      "3            Jan   10\n",
      "4          Bobby    8\n",
      "5          Cindy    6\n",
      "6  Cousin Oliver    8\n",
      "9.857142857142858\n",
      "10.0\n",
      "8\n"
     ]
    }
   ],
   "source": [
    "#1\n",
    "import matplotlib.pyplot as plt\n",
    "import numpy as np\n",
    "import pandas as pd\n",
    "df = pd.DataFrame()\n",
    "df['name'] = ['Greg','Marcia', 'Peter', 'Jan', 'Bobby', 'Cindy', 'Cousin Oliver']\n",
    "df['age'] = [14, 12, 11, 10, 8, 6, 8]\n",
    "print(df)\n",
    "mean = np.mean(df['age'])\n",
    "print(mean)\n",
    "median = np.median(df['age'])\n",
    "print(median)\n",
    "(values, counts) = np.unique(df['age'], return_counts=True)\n",
    "ind = np.argmax(counts)\n",
    "mode = values[ind]\n",
    "print(mode)"
   ]
  },
  {
   "cell_type": "code",
   "execution_count": 10,
   "metadata": {
    "collapsed": false
   },
   "outputs": [
    {
     "name": "stdout",
     "output_type": "stream",
     "text": [
      "6.408163265306122\n"
     ]
    }
   ],
   "source": [
    "variance = np.var(df['age'])\n",
    "print(variance)"
   ]
  },
  {
   "cell_type": "code",
   "execution_count": 16,
   "metadata": {
    "collapsed": false
   },
   "outputs": [
    {
     "name": "stdout",
     "output_type": "stream",
     "text": [
      "2.531435020952764\n"
     ]
    }
   ],
   "source": [
    "s = np.std(df['age'])\n",
    "print(s)"
   ]
  },
  {
   "cell_type": "code",
   "execution_count": 18,
   "metadata": {
    "collapsed": false
   },
   "outputs": [
    {
     "name": "stdout",
     "output_type": "stream",
     "text": [
      "0.956792503652\n"
     ]
    }
   ],
   "source": [
    "se = s/ np.sqrt(len(df['age']))\n",
    "print(se)"
   ]
  },
  {
   "cell_type": "code",
   "execution_count": null,
   "metadata": {
    "collapsed": true
   },
   "outputs": [],
   "source": [
    "# 2\n",
    "# I would choose mean because there isn't any significant big or small values\n",
    "# Use the population variance because the population size is small"
   ]
  },
  {
   "cell_type": "code",
   "execution_count": 47,
   "metadata": {
    "collapsed": false
   },
   "outputs": [
    {
     "name": "stdout",
     "output_type": "stream",
     "text": [
      "            name  age\n",
      "0           Greg   14\n",
      "1         Marcia   12\n",
      "2          Peter   11\n",
      "3            Jan   10\n",
      "4          Bobby    8\n",
      "5          Cindy    7\n",
      "6  Cousin Oliver    8\n",
      "10.0\n",
      "10.0\n",
      "8\n",
      "5.428571428571429\n",
      "2.32992949004287\n",
      "0.880630571853\n"
     ]
    }
   ],
   "source": [
    "# 3\n",
    "df.set_value(5, 'age', 7)\n",
    "print(df)\n",
    "mean = np.mean(df['age'])\n",
    "print(mean)\n",
    "median = np.median(df['age'])\n",
    "print(median)\n",
    "(values, counts) = np.unique(df['age'], return_counts=True)\n",
    "ind = np.argmax(counts)\n",
    "mode = values[ind]\n",
    "print(mode)\n",
    "variance = np.var(df['age'])\n",
    "print(variance)\n",
    "s = np.std(df['age'])\n",
    "print(s)\n",
    "se = s/ np.sqrt(len(df['age']))\n",
    "print(se)\n",
    "# The mean, variance, standard deviation and standard error changed; \n",
    "# median and mode didn't change."
   ]
  },
  {
   "cell_type": "code",
   "execution_count": 48,
   "metadata": {
    "collapsed": false
   },
   "outputs": [
    {
     "name": "stdout",
     "output_type": "stream",
     "text": [
      "      name  age\n",
      "0     Greg   14\n",
      "1   Marcia   12\n",
      "2    Peter   11\n",
      "3      Jan   10\n",
      "4    Bobby    8\n",
      "5    Cindy    6\n",
      "6  Jessica    1\n",
      "8.857142857142858\n",
      "10.0\n",
      "1\n",
      "16.122448979591837\n",
      "4.015276949301485\n",
      "1.51763203613\n"
     ]
    }
   ],
   "source": [
    "# 4\n",
    "df.set_value(5, 'age', 6)\n",
    "df.set_value(6, 'name', 'Jessica')\n",
    "df.set_value(6, 'age', '1')\n",
    "print(df)\n",
    "mean = np.mean(df['age'])\n",
    "print(mean)\n",
    "median = np.median(df['age'])\n",
    "print(median)\n",
    "(values, counts) = np.unique(df['age'], return_counts=True)\n",
    "ind = np.argmax(counts)\n",
    "mode = values[ind]\n",
    "# No mode in this situation?\n",
    "print(mode)\n",
    "variance = np.var(df['age'])\n",
    "print(variance)\n",
    "s = np.std(df['age'])\n",
    "print(s)\n",
    "se = s/ np.sqrt(len(df['age']))\n",
    "print(se)\n",
    "# I probably use median instead of mean this time since Jessica's age is a \n",
    "# bit far from the others, still use population variance, the sample size \n",
    "# is still small."
   ]
  },
  {
   "cell_type": "code",
   "execution_count": 50,
   "metadata": {
    "collapsed": false
   },
   "outputs": [
    {
     "name": "stdout",
     "output_type": "stream",
     "text": [
      "                channel  population in millions\n",
      "0              TV Guide                      10\n",
      "1  Entertainment Weekly                       8\n",
      "2     Pop Culture Today                       6\n",
      "3                SciPhi                       1\n"
     ]
    }
   ],
   "source": [
    "# 5  \n",
    "# Assume the number of subscribers through each channel below:\n",
    "df = pd.DataFrame()\n",
    "df['channel'] = ['TV Guide','Entertainment Weekly', 'Pop Culture Today', 'SciPhi']\n",
    "df['population in millions'] = [10,8,6,1]\n",
    "print(df)"
   ]
  },
  {
   "cell_type": "code",
   "execution_count": 59,
   "metadata": {
    "collapsed": false
   },
   "outputs": [
    {
     "name": "stdout",
     "output_type": "stream",
     "text": [
      "25\n",
      "0.1964\n"
     ]
    }
   ],
   "source": [
    "total = sum(df['population in millions'])\n",
    "print(total)\n",
    "weighted_average = 10/total*.2+8/total*.23+6/total*.17+1/total*.05\n",
    "print(weighted_average)"
   ]
  },
  {
   "cell_type": "code",
   "execution_count": null,
   "metadata": {
    "collapsed": true
   },
   "outputs": [],
   "source": []
  }
 ],
 "metadata": {
  "kernelspec": {
   "display_name": "Python 3",
   "language": "python",
   "name": "python3"
  },
  "language_info": {
   "codemirror_mode": {
    "name": "ipython",
    "version": 3
   },
   "file_extension": ".py",
   "mimetype": "text/x-python",
   "name": "python",
   "nbconvert_exporter": "python",
   "pygments_lexer": "ipython3",
   "version": "3.6.0"
  }
 },
 "nbformat": 4,
 "nbformat_minor": 2
}
